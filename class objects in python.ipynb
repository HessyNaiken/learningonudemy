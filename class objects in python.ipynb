{
 "cells": [
  {
   "cell_type": "code",
   "execution_count": null,
   "id": "991561a6",
   "metadata": {},
   "outputs": [],
   "source": [
    "class Point3D (object):\n",
    "    def __init__ (self, x, y, z):\n",
    "        self.x = x\n",
    "        self.y = y\n",
    "        self.z = z\n",
    "    def __repr__ (self):\n",
    "        return str(self.x)+\", \" +str(self.y)+ \", \" +str(self.z)\n",
    "\n",
    "myPoint = Point3D (1, 2, 3)\n",
    "print (myPoint.x)\n",
    "print (myPoint.y)\n",
    "print (myPoint.z)\n",
    "print (myPoint)"
   ]
  },
  {
   "cell_type": "code",
   "execution_count": null,
   "id": "89d6636c",
   "metadata": {},
   "outputs": [],
   "source": [
    "class Rectangle():\n",
    "    def __init__(self, l, w):\n",
    "        self.length = l\n",
    "        self.width  = w\n",
    "\n",
    "    def rectangle_area(self):\n",
    "        return self.length*self.width\n",
    "\n",
    "newRectangle = Rectangle(4, 3)\n",
    "print(newRectangle.rectangle_area())\n"
   ]
  },
  {
   "cell_type": "code",
   "execution_count": null,
   "id": "382889ce",
   "metadata": {},
   "outputs": [],
   "source": [
    "class Circle():\n",
    "    def __init__(self, r):\n",
    "        self.radius = r\n",
    "\n",
    "    def area(self):\n",
    "        return self.radius**2*3.14\n",
    "    \n",
    "    def perimeter(self):\n",
    "        return 2*self.radius*3.14\n",
    "\n",
    "NewCircle = Circle(8)\n",
    "print(NewCircle.area())\n",
    "print(NewCircle.perimeter())\n"
   ]
  },
  {
   "cell_type": "code",
   "execution_count": null,
   "id": "b4dd4f5e",
   "metadata": {},
   "outputs": [],
   "source": [
    "class Bank_Account:\n",
    "    def __init__(self):\n",
    "        self.balance=0\n",
    "        \n",
    "    def deposit(self):\n",
    "        amount=float(input(\"Enter Deposit: \"))\n",
    "        self.balance += amount\n",
    "        \n",
    "    def withdraw(self):\n",
    "        amount = float(input(\"Enter withdrawal amount: \"))\n",
    "        if self.balance>=amount:\n",
    "            self.balance-=amount\n",
    "            print(\"You Withdrew:\", amount)\n",
    "        else:\n",
    "            print(\"Insufficient balance  \")\n",
    " \n",
    "    def display(self):\n",
    "        print(\"Net Available Balance=\",self.balance)\n",
    " \n",
    "  \n",
    "\n",
    "s = Bank_Account()\n",
    "  \n",
    "\n",
    "s.deposit()\n",
    "s.withdraw()\n",
    "s.display()\n"
   ]
  },
  {
   "cell_type": "code",
   "execution_count": null,
   "id": "b3f90312",
   "metadata": {},
   "outputs": [],
   "source": []
  }
 ],
 "metadata": {
  "kernelspec": {
   "display_name": "Python 3 (ipykernel)",
   "language": "python",
   "name": "python3"
  },
  "language_info": {
   "codemirror_mode": {
    "name": "ipython",
    "version": 3
   },
   "file_extension": ".py",
   "mimetype": "text/x-python",
   "name": "python",
   "nbconvert_exporter": "python",
   "pygments_lexer": "ipython3",
   "version": "3.9.12"
  }
 },
 "nbformat": 4,
 "nbformat_minor": 5
}
