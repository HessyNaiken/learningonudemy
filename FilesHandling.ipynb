{
 "cells": [
  {
   "cell_type": "code",
   "execution_count": 11,
   "id": "653eb7bc",
   "metadata": {},
   "outputs": [
    {
     "name": "stdout",
     "output_type": "stream",
     "text": [
      "one\n",
      "two three four\n"
     ]
    }
   ],
   "source": [
    "f = open(\"file1.txt\" , \"r\")\n",
    "print(f.read())\n",
    "f.close()"
   ]
  },
  {
   "cell_type": "code",
   "execution_count": 15,
   "id": "d10321a0",
   "metadata": {},
   "outputs": [
    {
     "name": "stdout",
     "output_type": "stream",
     "text": [
      "\n",
      "\t\tEnter Lines To Read : 9\n",
      "one\n",
      "\n",
      "two \n",
      "\n",
      "three\n",
      "\n",
      "four\n",
      "\n",
      "five\n",
      "\n",
      "six\n",
      "\n",
      "seven\n",
      "\n",
      "eight\n",
      "\n",
      "nine\n",
      "\n"
     ]
    }
   ],
   "source": [
    "n = int(input(\"\\n\\t\\tEnter Lines To Read : \"))\n",
    "f = open(\"file1.txt\",\"r\")\n",
    "for i in range(n):\n",
    "\tprint(f.readline())"
   ]
  },
  {
   "cell_type": "code",
   "execution_count": 17,
   "id": "4d890b82",
   "metadata": {},
   "outputs": [
    {
     "name": "stdout",
     "output_type": "stream",
     "text": [
      "Enter n lines :- 7\n",
      "four\n",
      "five\n",
      "six\n",
      "seven\n",
      "eight\n",
      "nine\n",
      "ten"
     ]
    }
   ],
   "source": [
    "n=int(input(\"Enter n lines :- \"))\n",
    "f = open(\"file1.txt\",\"r\")\n",
    "for line in (f.readlines() [-n:]):\n",
    "\tprint(line,end=\"\")\n",
    "f.close()"
   ]
  },
  {
   "cell_type": "code",
   "execution_count": 18,
   "id": "f8e770e5",
   "metadata": {},
   "outputs": [
    {
     "name": "stdout",
     "output_type": "stream",
     "text": [
      "Number of words in text file : 10\n"
     ]
    }
   ],
   "source": [
    "file = open(\"hes.txt\", \"rt\")\n",
    "data = file.read()\n",
    "words = data.split()\n",
    "\n",
    "print('Number of words in text file :', len(words))"
   ]
  },
  {
   "cell_type": "code",
   "execution_count": null,
   "id": "ef84618b",
   "metadata": {},
   "outputs": [],
   "source": []
  }
 ],
 "metadata": {
  "kernelspec": {
   "display_name": "Python 3 (ipykernel)",
   "language": "python",
   "name": "python3"
  },
  "language_info": {
   "codemirror_mode": {
    "name": "ipython",
    "version": 3
   },
   "file_extension": ".py",
   "mimetype": "text/x-python",
   "name": "python",
   "nbconvert_exporter": "python",
   "pygments_lexer": "ipython3",
   "version": "3.9.12"
  }
 },
 "nbformat": 4,
 "nbformat_minor": 5
}
