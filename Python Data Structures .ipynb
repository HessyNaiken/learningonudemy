{
 "cells": [
  {
   "cell_type": "code",
   "execution_count": 1,
   "id": "45930c37",
   "metadata": {},
   "outputs": [
    {
     "name": "stdout",
     "output_type": "stream",
     "text": [
      "36\n"
     ]
    }
   ],
   "source": [
    "def multiply(myList):\n",
    "    result = 1\n",
    "    for x in myList:\n",
    "        result = result * x\n",
    "    return result\n",
    " \n",
    "list1 = [2, 3, 6]\n",
    "\n",
    "print(multiply(list1))\n",
    "\n",
    "    "
   ]
  },
  {
   "cell_type": "code",
   "execution_count": 2,
   "id": "7234e349",
   "metadata": {},
   "outputs": [
    {
     "name": "stdout",
     "output_type": "stream",
     "text": [
      "[(2, 1), (1, 2), (2, 3), (4, 4), (2, 5)]\n"
     ]
    }
   ],
   "source": [
    "def last(n): \n",
    "    return n[-1]  \n",
    "  \n",
    "def sort_list_last(tuples):  \n",
    "  return sorted(tuples, key=last)  \n",
    "  \n",
    "print(sort_list_last([(2, 5), (1, 2), (4, 4), (2, 3), (2, 1)]))  "
   ]
  },
  {
   "cell_type": "code",
   "execution_count": 3,
   "id": "f6cd364d",
   "metadata": {},
   "outputs": [
    {
     "name": "stdout",
     "output_type": "stream",
     "text": [
      "{'a': 400, 'b': 400, 'd': 400, 'c': 300}\n"
     ]
    }
   ],
   "source": [
    "d1 = {'a': 100, 'b': 200, 'c': 300}  \n",
    "d2 = {'a': 300, 'b': 200, 'd':400}  \n",
    "for key in d1:\n",
    "    if key in d2:\n",
    "        d2[key] = d1[key] + d2[key]\n",
    "    else:\n",
    "        d2[key]=d1[key]\n",
    "print(d2)       \n",
    "\n"
   ]
  },
  {
   "cell_type": "code",
   "execution_count": null,
   "id": "7c02f1be",
   "metadata": {},
   "outputs": [],
   "source": [
    "n = int(input(\"Please enter the value of n : \"))\n",
    "squares = {i : i*i for i in range(1, n+1)}\n",
    "print(squares)"
   ]
  },
  {
   "cell_type": "code",
   "execution_count": 5,
   "id": "c4191eb7",
   "metadata": {},
   "outputs": [
    {
     "data": {
      "text/plain": [
       "[('item3', '24.5'), ('item2', '15.10'), ('item1', '12.20')]"
      ]
     },
     "execution_count": 5,
     "metadata": {},
     "output_type": "execute_result"
    }
   ],
   "source": [
    " list= [('item1', '12.20'), ('item2', '15.10'), ('item3', '24.5')]\n",
    " def get(x):\n",
    "    return float(x[1])\n",
    "list.sort(key=get,reverse = True)\n",
    "list\n"
   ]
  },
  {
   "cell_type": "code",
   "execution_count": null,
   "id": "25518276",
   "metadata": {},
   "outputs": [],
   "source": []
  }
 ],
 "metadata": {
  "kernelspec": {
   "display_name": "Python 3 (ipykernel)",
   "language": "python",
   "name": "python3"
  },
  "language_info": {
   "codemirror_mode": {
    "name": "ipython",
    "version": 3
   },
   "file_extension": ".py",
   "mimetype": "text/x-python",
   "name": "python",
   "nbconvert_exporter": "python",
   "pygments_lexer": "ipython3",
   "version": "3.9.12"
  }
 },
 "nbformat": 4,
 "nbformat_minor": 5
}
