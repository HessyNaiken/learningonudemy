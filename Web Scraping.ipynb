{
 "cells": [
  {
   "cell_type": "code",
   "execution_count": null,
   "id": "908b1006",
   "metadata": {},
   "outputs": [],
   "source": [
    "import requests\n",
    "import string\n",
    "from bs4 import BeautifulSoup \n",
    "\n",
    "Enter_input = input(\"Search: \")\n",
    "u_i = string.capwords(Enter_input)\n",
    "lists = u_i.split()\n",
    "word = \"_\".join(lists)\n",
    "\n",
    "url = \"https://www.wikipedia.org/wiki/\" + word\n",
    "\n",
    "def wikibot(url):\n",
    "    url_open = requests.get(url)\n",
    "    soup = BeautifulSoup(url_open.content, 'html.parser')\n",
    "    details = soup('table',{'class':'infobox'})\n",
    "    for i in details:\n",
    "        h=i.find_all('tr')\n",
    "        for j in h:\n",
    "            heading = j.find_all('th')\n",
    "            detail=i.find_all('td')\n",
    "        if heading is not None and detail is not None:\n",
    "            for x,y in zip(heading,detail):\n",
    "                print(\"{} :: {}\".format(x.text,y.text))\n",
    "                print(\"-__________-\")\n",
    "    for i in range (1,3):\n",
    "        print(soup('p')[i].text)\n",
    "        \n",
    "\n",
    "wikibot(url)        \n",
    "    \n"
   ]
  },
  {
   "cell_type": "code",
   "execution_count": null,
   "id": "0fcbd2c7",
   "metadata": {},
   "outputs": [],
   "source": []
  },
  {
   "cell_type": "code",
   "execution_count": null,
   "id": "88d1505c",
   "metadata": {},
   "outputs": [],
   "source": []
  }
 ],
 "metadata": {
  "kernelspec": {
   "display_name": "Python 3 (ipykernel)",
   "language": "python",
   "name": "python3"
  },
  "language_info": {
   "codemirror_mode": {
    "name": "ipython",
    "version": 3
   },
   "file_extension": ".py",
   "mimetype": "text/x-python",
   "name": "python",
   "nbconvert_exporter": "python",
   "pygments_lexer": "ipython3",
   "version": "3.9.12"
  }
 },
 "nbformat": 4,
 "nbformat_minor": 5
}
