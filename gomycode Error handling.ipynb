{
 "cells": [
  {
   "cell_type": "code",
   "execution_count": null,
   "id": "972500fa",
   "metadata": {},
   "outputs": [],
   "source": [
    "mylist=[14, \"hello\", 967]\n",
    "mylist[1]\n",
    "#you have a sequence reference that is out of range"
   ]
  },
  {
   "cell_type": "code",
   "execution_count": null,
   "id": "ca1d1648",
   "metadata": {},
   "outputs": [],
   "source": [
    "import Pandas\n",
    "import NumPy\n",
    "\n",
    "# the modules have to be installed before using it\n",
    "# pip install pandas and pip install numpy"
   ]
  },
  {
   "cell_type": "code",
   "execution_count": null,
   "id": "fe6831a4",
   "metadata": {},
   "outputs": [],
   "source": [
    "print(\"python errors\")\n",
    "#print is mispelled and starts with a miniscule and the element should be in round brackets."
   ]
  },
  {
   "cell_type": "code",
   "execution_count": null,
   "id": "9acf431d",
   "metadata": {},
   "outputs": [],
   "source": [
    "mydictionnary={True:\"hello\",False:\"bye\", '3':\"python\"}\n",
    "mydictionnary[True]\n",
    "#True is a python function and cannot be treated as a string"
   ]
  },
  {
   "cell_type": "code",
   "execution_count": null,
   "id": "a13f21dd",
   "metadata": {},
   "outputs": [],
   "source": [
    "i=14\n",
    "while i<78:\n",
    "    print(i)\n",
    "i+=1\n",
    "#print should be indented because it's within the same block of code"
   ]
  },
  {
   "cell_type": "code",
   "execution_count": null,
   "id": "9c074f7c",
   "metadata": {},
   "outputs": [],
   "source": [
    "it=iter([1,2,3])\n",
    "print(next(it))\n",
    "print(next(it))\n",
    "print(next(it))"
   ]
  },
  {
   "cell_type": "code",
   "execution_count": null,
   "id": "995e5bc0",
   "metadata": {},
   "outputs": [],
   "source": [
    "# 15 integer\n",
    "# '15'string\n",
    "#cannot concatenate integer with string\n",
    "a = '15'\n",
    "b = 15\n",
    "c = int(a)+b\n",
    "print(c)"
   ]
  }
 ],
 "metadata": {
  "kernelspec": {
   "display_name": "Python 3 (ipykernel)",
   "language": "python",
   "name": "python3"
  },
  "language_info": {
   "codemirror_mode": {
    "name": "ipython",
    "version": 3
   },
   "file_extension": ".py",
   "mimetype": "text/x-python",
   "name": "python",
   "nbconvert_exporter": "python",
   "pygments_lexer": "ipython3",
   "version": "3.9.13"
  }
 },
 "nbformat": 4,
 "nbformat_minor": 5
}
